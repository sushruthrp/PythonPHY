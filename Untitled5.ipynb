{
 "cells": [
  {
   "cell_type": "code",
   "execution_count": null,
   "metadata": {},
   "outputs": [],
   "source": []
  },
  {
   "cell_type": "code",
   "execution_count": 82,
   "metadata": {},
   "outputs": [],
   "source": [
    "A = 7.049556277;\n",
    "B = 0.6022245584;             #%*(2.0951^4);\n",
    "a = 1.80;                     #%*2.0951;            #%*(10^(-10));\n",
    "epsilon = 1.6483*1.60218*(1.66054)*10**-36;\n",
    "d = 2.66;                     #%/2.0951;#%*(10^(-10));\n",
    "dt = 0.01;                    #%*10^(-15);\n",
    "M = 27.9769;                  #%*(1.66054e-27*10^(-27));\n",
    "sigma = 2.0951;"
   ]
  },
  {
   "cell_type": "code",
   "execution_count": 85,
   "metadata": {},
   "outputs": [],
   "source": [
    "import sympy\n",
    "g = symbols('g')\n",
    "def potential_2_pt(g):\n",
    "    return (epsilon*A*(B*((g/sigma)**-4)-1)*exp(1/((g/sigma)-(a))))\n",
    "def force_2_pt(p1,p2):\n",
    "    f = []\n",
    "    for i in range(0,2):\n",
    "        f.append(diff(potential_2_pt,(p2[i]-p1[i]),1))\n",
    "    return f"
   ]
  },
  {
   "cell_type": "code",
   "execution_count": 86,
   "metadata": {},
   "outputs": [
    {
     "name": "stdout",
     "output_type": "stream",
     "text": [
      "2.05777302476088e-22\n"
     ]
    }
   ],
   "source": [
    "print(potential_2_pt(0.001))\n",
    "#print(force_2_pt(list([1,2,3]),list([9,8,7])))"
   ]
  },
  {
   "cell_type": "code",
   "execution_count": 72,
   "metadata": {},
   "outputs": [
    {
     "name": "stdout",
     "output_type": "stream",
     "text": [
      "<class 'list'>\n",
      "3.23801620886\n"
     ]
    }
   ],
   "source": [
    "import numpy as np\n",
    "import math\n",
    "\n",
    "data = np.loadtxt('MinSet.txt')\n",
    "mat = np.matrix(data)\n",
    "\n",
    "zero = np.array(mat[0,:])\n",
    "point1 = np.array(mat[1,:])\n",
    "point2 = np.array(mat[2,:])\n",
    "point3 = np.array(mat[3,:])\n",
    "point4 = np.array(mat[4,:])\n",
    "print(type(list(point1)))\n",
    "print(list(point1)[0][1])"
   ]
  },
  {
   "cell_type": "code",
   "execution_count": null,
   "metadata": {},
   "outputs": [],
   "source": []
  }
 ],
 "metadata": {
  "kernelspec": {
   "display_name": "Python 3",
   "language": "python",
   "name": "python3"
  },
  "language_info": {
   "codemirror_mode": {
    "name": "ipython",
    "version": 3
   },
   "file_extension": ".py",
   "mimetype": "text/x-python",
   "name": "python",
   "nbconvert_exporter": "python",
   "pygments_lexer": "ipython3",
   "version": "3.7.1"
  }
 },
 "nbformat": 4,
 "nbformat_minor": 2
}
