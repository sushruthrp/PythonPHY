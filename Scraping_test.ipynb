{
 "cells": [
  {
   "cell_type": "code",
   "execution_count": 62,
   "metadata": {},
   "outputs": [
    {
     "name": "stdout",
     "output_type": "stream",
     "text": [
      "[<img alt=\"Eight arch footbridge connecting Sanxiantai Island to Taitung, Taiwan\" class=\"wp-image-12040\" height=\"410\" sizes=\"(max-width: 728px) 100vw, 728px\" src=\"https://spotlight.it-notes.ru/wp-content/uploads/2019/02/2033e0f072434b99aa5c01b6bc826148-1024x576.jpg\" srcset=\"https://spotlight.it-notes.ru/wp-content/uploads/2019/02/2033e0f072434b99aa5c01b6bc826148-1024x576.jpg 1024w, https://spotlight.it-notes.ru/wp-content/uploads/2019/02/2033e0f072434b99aa5c01b6bc826148-300x169.jpg 300w, https://spotlight.it-notes.ru/wp-content/uploads/2019/02/2033e0f072434b99aa5c01b6bc826148-768x432.jpg 768w\" title=\"Eight arch footbridge connecting Sanxiantai Island to Taitung, Taiwan\" width=\"728\"/>, <img alt=\"2291621eefe13f0d0f5e0f192b9e835d\" class=\"aligncenter wp-image-12041\" height=\"728\" sizes=\"(max-width: 410px) 100vw, 410px\" src=\"https://spotlight.it-notes.ru/wp-content/uploads/2019/02/2291621eefe13f0d0f5e0f192b9e835d-576x1024.jpg\" srcset=\"https://spotlight.it-notes.ru/wp-content/uploads/2019/02/2291621eefe13f0d0f5e0f192b9e835d-576x1024.jpg 576w, https://spotlight.it-notes.ru/wp-content/uploads/2019/02/2291621eefe13f0d0f5e0f192b9e835d-169x300.jpg 169w, https://spotlight.it-notes.ru/wp-content/uploads/2019/02/2291621eefe13f0d0f5e0f192b9e835d-768x1365.jpg 768w, https://spotlight.it-notes.ru/wp-content/uploads/2019/02/2291621eefe13f0d0f5e0f192b9e835d.jpg 1080w\" title=\"2291621eefe13f0d0f5e0f192b9e835d\" width=\"410\"/>, <img alt=\"409c4cb41600f97519eda35ffba1a5ba\" class=\"attachment-192x108 size-192x108 wp-post-image\" height=\"108\" sizes=\"(max-width: 192px) 100vw, 192px\" src=\"https://spotlight.it-notes.ru/wp-content/uploads/2017/08/409c4cb41600f97519eda35ffba1a5ba-300x169.jpg\" srcset=\"https://spotlight.it-notes.ru/wp-content/uploads/2017/08/409c4cb41600f97519eda35ffba1a5ba-300x169.jpg 300w, https://spotlight.it-notes.ru/wp-content/uploads/2017/08/409c4cb41600f97519eda35ffba1a5ba-768x432.jpg 768w, https://spotlight.it-notes.ru/wp-content/uploads/2017/08/409c4cb41600f97519eda35ffba1a5ba-1024x576.jpg 1024w\" title=\"Landscape over Calascio fortress, ancient village of Abruzzo, Italy\" width=\"192\"/>, <img alt=\"2d0de7aa5cdcb69e1e1defdab6a284a8\" class=\"attachment-192x108 size-192x108 wp-post-image\" height=\"108\" sizes=\"(max-width: 192px) 100vw, 192px\" src=\"https://spotlight.it-notes.ru/wp-content/uploads/2018/05/2d0de7aa5cdcb69e1e1defdab6a284a8-300x169.jpg\" srcset=\"https://spotlight.it-notes.ru/wp-content/uploads/2018/05/2d0de7aa5cdcb69e1e1defdab6a284a8-300x169.jpg 300w, https://spotlight.it-notes.ru/wp-content/uploads/2018/05/2d0de7aa5cdcb69e1e1defdab6a284a8-768x432.jpg 768w, https://spotlight.it-notes.ru/wp-content/uploads/2018/05/2d0de7aa5cdcb69e1e1defdab6a284a8-1024x576.jpg 1024w\" title=\"Reflection of trees in lake, public park in London, England, UK\" width=\"192\"/>, <img alt=\"8f6716c97dcabb2b1273a5b3acd51908\" class=\"attachment-192x108 size-192x108 wp-post-image\" height=\"108\" sizes=\"(max-width: 192px) 100vw, 192px\" src=\"https://spotlight.it-notes.ru/wp-content/uploads/2017/10/8f6716c97dcabb2b1273a5b3acd51908-300x169.jpg\" srcset=\"https://spotlight.it-notes.ru/wp-content/uploads/2017/10/8f6716c97dcabb2b1273a5b3acd51908-300x169.jpg 300w, https://spotlight.it-notes.ru/wp-content/uploads/2017/10/8f6716c97dcabb2b1273a5b3acd51908-768x432.jpg 768w, https://spotlight.it-notes.ru/wp-content/uploads/2017/10/8f6716c97dcabb2b1273a5b3acd51908-1024x576.jpg 1024w\" title=\"Horseback riders in the Santa Monica Mountains, California, USA\" width=\"192\"/>]\n"
     ]
    }
   ],
   "source": [
    "#from urllib2.request import urlopen\n",
    "import urllib\n",
    "import requests\n",
    "from bs4 import BeautifulSoup\n",
    "page_URL = \"https://spotlight.it-notes.ru/images/2033e0f072434b99aa5c01b6bc826148\"\n",
    "page_webcode = urllib.request.urlopen(page_URL).read()\n",
    "soup = BeautifulSoup(page_webcode, 'html.parser')\n",
    "\n",
    "images = []\n",
    "images = soup.findAll('img')#, attrs={'alt':''})\n",
    "print(images)"
   ]
  },
  {
   "cell_type": "code",
   "execution_count": null,
   "metadata": {},
   "outputs": [],
   "source": [
    "for image in images:\n",
    "    im_down = requests.get(image.get('src'),allow_redirects=True)\n",
    "    open(str(images.index(image)) + '.jpg', 'wb').write(im_down.content)"
   ]
  },
  {
   "cell_type": "code",
   "execution_count": 65,
   "metadata": {},
   "outputs": [
    {
     "name": "stdout",
     "output_type": "stream",
     "text": [
      "https://spotlight.it-notes.ru/wp-content/uploads/2019/02/2033e0f072434b99aa5c01b6bc826148-1024x576.jpg 1024w, https://spotlight.it-notes.ru/wp-content/uploads/2019/02/2033e0f072434b99aa5c01b6bc826148-300x169.jpg 300w, https://spotlight.it-notes.ru/wp-content/uploads/2019/02/2033e0f072434b99aa5c01b6bc826148-768x432.jpg 768w\n",
      "https://spotlight.it-notes.ru/wp-content/uploads/2019/02/2291621eefe13f0d0f5e0f192b9e835d-576x1024.jpg 576w, https://spotlight.it-notes.ru/wp-content/uploads/2019/02/2291621eefe13f0d0f5e0f192b9e835d-169x300.jpg 169w, https://spotlight.it-notes.ru/wp-content/uploads/2019/02/2291621eefe13f0d0f5e0f192b9e835d-768x1365.jpg 768w, https://spotlight.it-notes.ru/wp-content/uploads/2019/02/2291621eefe13f0d0f5e0f192b9e835d.jpg 1080w\n",
      "https://spotlight.it-notes.ru/wp-content/uploads/2017/08/409c4cb41600f97519eda35ffba1a5ba-300x169.jpg 300w, https://spotlight.it-notes.ru/wp-content/uploads/2017/08/409c4cb41600f97519eda35ffba1a5ba-768x432.jpg 768w, https://spotlight.it-notes.ru/wp-content/uploads/2017/08/409c4cb41600f97519eda35ffba1a5ba-1024x576.jpg 1024w\n",
      "https://spotlight.it-notes.ru/wp-content/uploads/2018/05/2d0de7aa5cdcb69e1e1defdab6a284a8-300x169.jpg 300w, https://spotlight.it-notes.ru/wp-content/uploads/2018/05/2d0de7aa5cdcb69e1e1defdab6a284a8-768x432.jpg 768w, https://spotlight.it-notes.ru/wp-content/uploads/2018/05/2d0de7aa5cdcb69e1e1defdab6a284a8-1024x576.jpg 1024w\n",
      "https://spotlight.it-notes.ru/wp-content/uploads/2017/10/8f6716c97dcabb2b1273a5b3acd51908-300x169.jpg 300w, https://spotlight.it-notes.ru/wp-content/uploads/2017/10/8f6716c97dcabb2b1273a5b3acd51908-768x432.jpg 768w, https://spotlight.it-notes.ru/wp-content/uploads/2017/10/8f6716c97dcabb2b1273a5b3acd51908-1024x576.jpg 1024w\n"
     ]
    }
   ],
   "source": [
    "for image in images:\n",
    "    print(image.get('srcset'))\n",
    "    image = str(image.get('str'))\n",
    "#print(images)"
   ]
  },
  {
   "cell_type": "code",
   "execution_count": 35,
   "metadata": {},
   "outputs": [
    {
     "data": {
      "text/plain": [
       "5430"
      ]
     },
     "execution_count": 35,
     "metadata": {},
     "output_type": "execute_result"
    }
   ],
   "source": [
    "import requests\n",
    "\n",
    "url = 'http://google.com/favicon.ico'\n",
    "r = requests.get(url, allow_redirects=True)\n",
    "open('google.ico', 'wb').write(r.content)"
   ]
  }
 ],
 "metadata": {
  "kernelspec": {
   "display_name": "Python 3",
   "language": "python",
   "name": "python3"
  },
  "language_info": {
   "codemirror_mode": {
    "name": "ipython",
    "version": 3
   },
   "file_extension": ".py",
   "mimetype": "text/x-python",
   "name": "python",
   "nbconvert_exporter": "python",
   "pygments_lexer": "ipython3",
   "version": "3.7.1"
  }
 },
 "nbformat": 4,
 "nbformat_minor": 2
}
