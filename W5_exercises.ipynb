{
 "cells": [
  {
   "cell_type": "code",
   "execution_count": 4,
   "metadata": {},
   "outputs": [
    {
     "name": "stdout",
     "output_type": "stream",
     "text": [
      "Enter [r]ock [p]aper or [s]cissorsr\n",
      "Computer selected: paper\n",
      "You selected: rock\n",
      "Computer Wins!\n",
      "Enter [r]ock [p]aper or [s]cissorsr\n",
      "Computer selected: rock\n",
      "You selected: rock\n",
      "Tie Game!!!\n",
      "Enter [r]ock [p]aper or [s]cissorsr\n",
      "Computer selected: paper\n",
      "You selected: rock\n",
      "Computer Wins!\n",
      "Enter [r]ock [p]aper or [s]cissorsr\n",
      "Computer selected: paper\n",
      "You selected: rock\n",
      "Computer Wins!\n",
      "Enter [r]ock [p]aper or [s]cissorsr\n",
      "Computer selected: rock\n",
      "You selected: rock\n",
      "Tie Game!!!\n",
      "Enter [r]ock [p]aper or [s]cissorsr\n",
      "Computer selected: rock\n",
      "You selected: rock\n",
      "Tie Game!!!\n",
      "Enter [r]ock [p]aper or [s]cissorsr\n",
      "Computer selected: rock\n",
      "You selected: rock\n",
      "Tie Game!!!\n",
      "Enter [r]ock [p]aper or [s]cissorsstop\n",
      "You won 0 times\n"
     ]
    }
   ],
   "source": [
    "import random\n",
    "def get_score(string):\n",
    "    if (string==\"r\"):\n",
    "        return 0\n",
    "    elif (string ==\"p\"):\n",
    "        return 1\n",
    "    elif (string==\"s\"):\n",
    "        return 2\n",
    "    elif (len(string)>=1):\n",
    "        raise Exception ('Invalid Input')\n",
    "    else:\n",
    "        raise Exception ('No valid Input')\n",
    "        \n",
    "        \n",
    "def game_str(i):\n",
    "    if (i==0):\n",
    "        return \"rock\"\n",
    "    elif(i==1):\n",
    "        return \"paper\"\n",
    "    elif (i==2):\n",
    "        return \"scissors\"\n",
    "\n",
    "def game_status(string):\n",
    "    if (string==\"stop\"):\n",
    "        return False\n",
    "    else:\n",
    "        return True\n",
    "    \n",
    "check = True\n",
    "count = 0\n",
    "streak = 0\n",
    "\n",
    "while(check):\n",
    "    inp = (input(\"Enter [r]ock [p]aper or [s]cissors\"))\n",
    "    if (game_status(inp)):\n",
    "        user = get_score(inp)\n",
    "    else:\n",
    "        check = False\n",
    "        break\n",
    "    comp = random.randint(0,2)\n",
    "    if (user==comp):\n",
    "        print(\"Computer selected: %s\"%game_str(comp))\n",
    "        print(\"You selected: %s\"%game_str(user))\n",
    "        print(\"Tie Game!!!\")\n",
    "    elif (user>comp):\n",
    "        print(\"Computer selected: %s\"%game_str(comp))\n",
    "        print(\"You selected: %s\"%game_str(user))\n",
    "        print(\"You Win!!!\")\n",
    "        count +=1\n",
    "    elif (user==0 and comp ==3):\n",
    "        print(\"Computer selected: %s\"%game_str(comp))\n",
    "        print(\"You selected: %s\"%game_str(user))\n",
    "        print(\"You Win!!!\")\n",
    "        count +=1\n",
    "    else:\n",
    "        print(\"Computer selected: %s\"%game_str(comp))\n",
    "        print(\"You selected: %s\"%game_str(user))\n",
    "        print(\"Computer Wins!\")\n",
    "        \n",
    "        \n",
    "print(\"You won %d times\"%count)            "
   ]
  },
  {
   "cell_type": "code",
   "execution_count": 9,
   "metadata": {},
   "outputs": [
    {
     "name": "stdout",
     "output_type": "stream",
     "text": [
      "Enter number of rows: 10\n",
      "                                    1 \n",
      "                                 1      1 \n",
      "                              1      2      1 \n",
      "                           1      3      3      1 \n",
      "                        1      4      6      4      1 \n",
      "                     1      5     10     10      5      1 \n",
      "                  1      6     15     20     15      6      1 \n",
      "               1      7     21     35     35     21      7      1 \n",
      "            1      8     28     56     70     56     28      8      1 \n",
      "         1      9     36     84    126    126     84     36      9      1 \n"
     ]
    }
   ],
   "source": [
    "n=int(input(\"Enter number of rows: \"))\n",
    "a=[]\n",
    "for i in range(n):\n",
    "    a.append([])\n",
    "    a[i].append(1)\n",
    "    for j in range(1,i):\n",
    "        a[i].append(a[i-1][j-1]+a[i-1][j])\n",
    "    if(n!=0):\n",
    "        a[i].append(1)\n",
    "for i in range(n):\n",
    "    print(\"   \"*(n-i),end=\" \",sep=\" \")\n",
    "    for j in range(0,i+1):\n",
    "        print('{0:6}'.format(a[i][j]),end=\" \",sep=\" \")\n",
    "    print()"
   ]
  },
  {
   "cell_type": "code",
   "execution_count": 8,
   "metadata": {},
   "outputs": [
    {
     "name": "stdout",
     "output_type": "stream",
     "text": [
      "Enter the string to be checkedabcdefghijklmnopqrstuvwxy\n"
     ]
    },
    {
     "data": {
      "text/plain": [
       "False"
      ]
     },
     "execution_count": 8,
     "metadata": {},
     "output_type": "execute_result"
    }
   ],
   "source": [
    "from string import ascii_lowercase\n",
    "def is_panagram(str1):\n",
    "    if len(set(ascii_lowercase) - set(str1.lower())) == 0 :\n",
    "        return True\n",
    "    else:\n",
    "        return False\n",
    "str1 = str(input(\"Enter the string to be checked\"))\n",
    "print(is_panagram(str1))"
   ]
  },
  {
   "cell_type": "code",
   "execution_count": 18,
   "metadata": {},
   "outputs": [
    {
     "name": "stdout",
     "output_type": "stream",
     "text": [
      "angle(deg)  angle(rad)  sin(angle)  cos(angle)  sin(angle)**2 + cos(angle)**2\n",
      "0.000000    0.000000    0.000000    1.000000    1.0             \n",
      "30.000000   0.523599    -0.988032   0.154251    1.0             \n",
      "60.000000   1.047198    -0.304811   -0.952413   1.0             \n",
      "90.000000   1.570796    0.893997    -0.448074   1.0             \n",
      "120.000000  2.094395    0.580611    0.814181    1.0             \n",
      "150.000000  2.617994    -0.714876   0.699251    1.0             \n",
      "180.000000  3.141593    -0.801153   -0.598460   0.9999999999999998\n",
      "210.000000  3.665191    0.467719    -0.883877   1.0             \n",
      "240.000000  4.188790    0.945445    0.325781    1.0             \n",
      "270.000000  4.712389    -0.176046   0.984382    0.9999999999999999\n",
      "300.000000  5.235988    -0.999756   -0.022097   0.9999999999999999\n",
      "330.000000  5.759587    -0.132382   -0.991199   0.9999999999999999\n"
     ]
    }
   ],
   "source": [
    "import math\n",
    "\n",
    "a = []\n",
    "for i in range(0,(360//30)):\n",
    "    t = 30*i\n",
    "    a.append([])\n",
    "    a[i].append(t)\n",
    "    a[i].append(math.radians(t))\n",
    "    a[i].append(math.sin(t))\n",
    "    a[i].append(math.cos(t))\n",
    "    a[i].append(math.sin(t)**2+math.cos(t)**2)       \n",
    "\n",
    "\n",
    "header = ['angle(deg)','angle(rad)','sin(angle)','cos(angle)','sin(angle)**2 + cos(angle)**2']\n",
    "print('%-12s%-12s%-12s%-12s%-16s'%(header[0],header[1],header[2],header[3],header[4]))\n",
    "    \n",
    "for row in a:\n",
    "    print('%-12f%-12f%-12f%-12f%-16s'%(row[0],row[1],row[2],row[3],row[4]))\n",
    "\n",
    "    \n"
   ]
  }
 ],
 "metadata": {
  "kernelspec": {
   "display_name": "Python 3",
   "language": "python",
   "name": "python3"
  },
  "language_info": {
   "codemirror_mode": {
    "name": "ipython",
    "version": 3
   },
   "file_extension": ".py",
   "mimetype": "text/x-python",
   "name": "python",
   "nbconvert_exporter": "python",
   "pygments_lexer": "ipython3",
   "version": "3.7.1"
  }
 },
 "nbformat": 4,
 "nbformat_minor": 2
}
