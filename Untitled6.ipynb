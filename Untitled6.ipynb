{
 "cells": [
  {
   "cell_type": "code",
   "execution_count": 7,
   "metadata": {},
   "outputs": [
    {
     "name": "stdout",
     "output_type": "stream",
     "text": [
      "0.5622335662841478\n"
     ]
    },
    {
     "data": {
      "text/plain": [
       "1.4958133945429892e-46"
      ]
     },
     "execution_count": 7,
     "metadata": {},
     "output_type": "execute_result"
    }
   ],
   "source": [
    "import math\n",
    "import numpy\n",
    "def fun(r):\n",
    "    return 11.619*(math.exp(-2.0951/(3.77-r)))*((-2.0951*(11.599-r**4)/(r**4*(3.77-r)**2))-(46.395/(r**5)))\n",
    "print(fun(2.43))\n",
    "fun(2.43)*1.60218*(1.66054)*10**-46"
   ]
  }
 ],
 "metadata": {
  "kernelspec": {
   "display_name": "Python 3",
   "language": "python",
   "name": "python3"
  },
  "language_info": {
   "codemirror_mode": {
    "name": "ipython",
    "version": 3
   },
   "file_extension": ".py",
   "mimetype": "text/x-python",
   "name": "python",
   "nbconvert_exporter": "python",
   "pygments_lexer": "ipython3",
   "version": "3.7.1"
  }
 },
 "nbformat": 4,
 "nbformat_minor": 2
}
